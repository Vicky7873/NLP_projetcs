{
 "cells": [
  {
   "cell_type": "code",
   "execution_count": 9,
   "metadata": {},
   "outputs": [],
   "source": [
    "from datasets import Dataset\n",
    "\n",
    "ds = Dataset.from_file(\"/Users/bhikipallai/Desktop/Projects/NLP_projetcs/artifacts/data_transformation/samsum_dataset/test/data-00000-of-00001.arrow\")"
   ]
  },
  {
   "cell_type": "code",
   "execution_count": 12,
   "metadata": {},
   "outputs": [
    {
     "ename": "ArrowInvalid",
     "evalue": "Not an Arrow file",
     "output_type": "error",
     "traceback": [
      "\u001b[0;31m---------------------------------------------------------------------------\u001b[0m",
      "\u001b[0;31mArrowInvalid\u001b[0m                              Traceback (most recent call last)",
      "Cell \u001b[0;32mIn[12], line 8\u001b[0m\n\u001b[1;32m      5\u001b[0m original_arrow_file \u001b[38;5;241m=\u001b[39m \u001b[38;5;124m'\u001b[39m\u001b[38;5;124m/Users/bhikipallai/Desktop/Projects/NLP_projetcs/artifacts/data_transformation/samsum_dataset/test/data-00000-of-00001.arrow\u001b[39m\u001b[38;5;124m'\u001b[39m  \u001b[38;5;66;03m# Replace with your .arrow file path\u001b[39;00m\n\u001b[1;32m      7\u001b[0m \u001b[38;5;28;01mwith\u001b[39;00m pa\u001b[38;5;241m.\u001b[39mmemory_map(original_arrow_file, \u001b[38;5;124m'\u001b[39m\u001b[38;5;124mr\u001b[39m\u001b[38;5;124m'\u001b[39m) \u001b[38;5;28;01mas\u001b[39;00m source:\n\u001b[0;32m----> 8\u001b[0m     reader \u001b[38;5;241m=\u001b[39m \u001b[43mipc\u001b[49m\u001b[38;5;241;43m.\u001b[39;49m\u001b[43mRecordBatchFileReader\u001b[49m\u001b[43m(\u001b[49m\u001b[43msource\u001b[49m\u001b[43m)\u001b[49m\n\u001b[1;32m      9\u001b[0m     table \u001b[38;5;241m=\u001b[39m reader\u001b[38;5;241m.\u001b[39mread_all()\n\u001b[1;32m     11\u001b[0m \u001b[38;5;66;03m# Number of records to take (adjust this as needed)\u001b[39;00m\n",
      "File \u001b[0;32m/Applications/anaconda3/envs/nlp/lib/python3.12/site-packages/pyarrow/ipc.py:110\u001b[0m, in \u001b[0;36mRecordBatchFileReader.__init__\u001b[0;34m(self, source, footer_offset, options, memory_pool)\u001b[0m\n\u001b[1;32m    107\u001b[0m \u001b[38;5;28;01mdef\u001b[39;00m \u001b[38;5;21m__init__\u001b[39m(\u001b[38;5;28mself\u001b[39m, source, footer_offset\u001b[38;5;241m=\u001b[39m\u001b[38;5;28;01mNone\u001b[39;00m, \u001b[38;5;241m*\u001b[39m, options\u001b[38;5;241m=\u001b[39m\u001b[38;5;28;01mNone\u001b[39;00m,\n\u001b[1;32m    108\u001b[0m              memory_pool\u001b[38;5;241m=\u001b[39m\u001b[38;5;28;01mNone\u001b[39;00m):\n\u001b[1;32m    109\u001b[0m     options \u001b[38;5;241m=\u001b[39m _ensure_default_ipc_read_options(options)\n\u001b[0;32m--> 110\u001b[0m     \u001b[38;5;28;43mself\u001b[39;49m\u001b[38;5;241;43m.\u001b[39;49m\u001b[43m_open\u001b[49m\u001b[43m(\u001b[49m\u001b[43msource\u001b[49m\u001b[43m,\u001b[49m\u001b[43m \u001b[49m\u001b[43mfooter_offset\u001b[49m\u001b[38;5;241;43m=\u001b[39;49m\u001b[43mfooter_offset\u001b[49m\u001b[43m,\u001b[49m\n\u001b[1;32m    111\u001b[0m \u001b[43m               \u001b[49m\u001b[43moptions\u001b[49m\u001b[38;5;241;43m=\u001b[39;49m\u001b[43moptions\u001b[49m\u001b[43m,\u001b[49m\u001b[43m \u001b[49m\u001b[43mmemory_pool\u001b[49m\u001b[38;5;241;43m=\u001b[39;49m\u001b[43mmemory_pool\u001b[49m\u001b[43m)\u001b[49m\n",
      "File \u001b[0;32m/Applications/anaconda3/envs/nlp/lib/python3.12/site-packages/pyarrow/ipc.pxi:1090\u001b[0m, in \u001b[0;36mpyarrow.lib._RecordBatchFileReader._open\u001b[0;34m()\u001b[0m\n",
      "File \u001b[0;32m/Applications/anaconda3/envs/nlp/lib/python3.12/site-packages/pyarrow/error.pxi:155\u001b[0m, in \u001b[0;36mpyarrow.lib.pyarrow_internal_check_status\u001b[0;34m()\u001b[0m\n",
      "File \u001b[0;32m/Applications/anaconda3/envs/nlp/lib/python3.12/site-packages/pyarrow/error.pxi:92\u001b[0m, in \u001b[0;36mpyarrow.lib.check_status\u001b[0;34m()\u001b[0m\n",
      "\u001b[0;31mArrowInvalid\u001b[0m: Not an Arrow file"
     ]
    }
   ],
   "source": [
    "import pyarrow as pa\n",
    "import pyarrow.ipc as ipc\n",
    "\n",
    "# Load the original .arrow file\n",
    "original_arrow_file = '/Users/bhikipallai/Desktop/Projects/NLP_projetcs/artifacts/data_transformation/samsum_dataset/test/data-00000-of-00001.arrow'  # Replace with your .arrow file path\n",
    "\n",
    "with pa.memory_map(original_arrow_file, 'r') as source:\n",
    "    reader = ipc.RecordBatchFileReader(source)\n",
    "    table = reader.read_all()\n",
    "\n",
    "# Number of records to take (adjust this as needed)\n",
    "num_records_to_take = 10  # Example: take the first 10 records\n",
    "\n",
    "# Slice the table to get the first `num_records_to_take` rows\n",
    "subset_table = table.slice(0, num_records_to_take)\n",
    "\n",
    "# Write the subset to a new .arrow file\n",
    "subset_arrow_file = 'subset.arrow'  # Specify the output file name\n",
    "with pa.OSFile(subset_arrow_file, 'wb') as sink:\n",
    "    writer = ipc.RecordBatchFileWriter(sink, subset_table.schema)\n",
    "    writer.write_table(subset_table)\n",
    "    writer.close()\n",
    "\n",
    "print(f\"Subset of {num_records_to_take} records written to {subset_arrow_file}\")\n"
   ]
  },
  {
   "cell_type": "code",
   "execution_count": null,
   "metadata": {},
   "outputs": [],
   "source": []
  }
 ],
 "metadata": {
  "kernelspec": {
   "display_name": "nlp",
   "language": "python",
   "name": "python3"
  },
  "language_info": {
   "codemirror_mode": {
    "name": "ipython",
    "version": 3
   },
   "file_extension": ".py",
   "mimetype": "text/x-python",
   "name": "python",
   "nbconvert_exporter": "python",
   "pygments_lexer": "ipython3",
   "version": "3.12.4"
  }
 },
 "nbformat": 4,
 "nbformat_minor": 2
}
